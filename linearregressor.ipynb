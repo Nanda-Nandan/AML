{
 "cells": [
  {
   "cell_type": "code",
   "execution_count": 7,
   "metadata": {},
   "outputs": [],
   "source": [
    "import tensorflow as tf\n",
    "import numpy as np\n",
    "import shutil"
   ]
  },
  {
   "cell_type": "code",
   "execution_count": 8,
   "metadata": {},
   "outputs": [
    {
     "name": "stdout",
     "output_type": "stream",
     "text": [
      "1.9.0\n",
      "1.15.0\n"
     ]
    }
   ],
   "source": [
    "print(tf.__version__)\n",
    "print(np.__version__)"
   ]
  },
  {
   "cell_type": "code",
   "execution_count": 9,
   "metadata": {},
   "outputs": [],
   "source": [
    "shutil.rmtree(\"outdir\",ignore_errors=True)"
   ]
  },
  {
   "cell_type": "code",
   "execution_count": 10,
   "metadata": {},
   "outputs": [],
   "source": [
    "def train_input_fn():\n",
    "    features={\"sq_footage\":[1000,2000,3000,1000,2000,3000],\n",
    "              \"type\":[\"house\",\"house\",\"house\",\"apt\",\"apt\",\"apt\"]}\n",
    "    labels=[500,1000,1500,700,1300,1900]\n",
    "    return features,labels\n",
    "    "
   ]
  },
  {
   "cell_type": "code",
   "execution_count": 12,
   "metadata": {},
   "outputs": [],
   "source": [
    "feat_cols=[\n",
    "    tf.feature_column.numeric_column(\"sq_footage\"),\n",
    "    tf.feature_column.categorical_column_with_vocabulary_list(\"type\",[\"house\",\"apt\"])\n",
    "]"
   ]
  },
  {
   "cell_type": "code",
   "execution_count": 14,
   "metadata": {},
   "outputs": [
    {
     "name": "stdout",
     "output_type": "stream",
     "text": [
      "INFO:tensorflow:Using default config.\n",
      "INFO:tensorflow:Using config: {'_model_dir': 'outdir', '_tf_random_seed': None, '_save_summary_steps': 100, '_save_checkpoints_steps': None, '_save_checkpoints_secs': 600, '_session_config': None, '_keep_checkpoint_max': 5, '_keep_checkpoint_every_n_hours': 10000, '_log_step_count_steps': 100, '_train_distribute': None, '_device_fn': None, '_service': None, '_cluster_spec': <tensorflow.python.training.server_lib.ClusterSpec object at 0x000001ACB16C5400>, '_task_type': 'worker', '_task_id': 0, '_global_id_in_cluster': 0, '_master': '', '_evaluation_master': '', '_is_chief': True, '_num_ps_replicas': 0, '_num_worker_replicas': 1}\n",
      "INFO:tensorflow:Calling model_fn.\n",
      "INFO:tensorflow:Done calling model_fn.\n",
      "INFO:tensorflow:Create CheckpointSaverHook.\n",
      "INFO:tensorflow:Graph was finalized.\n",
      "INFO:tensorflow:Running local_init_op.\n",
      "INFO:tensorflow:Done running local_init_op.\n",
      "INFO:tensorflow:Saving checkpoints for 0 into outdir\\model.ckpt.\n",
      "INFO:tensorflow:loss = 9290000.0, step = 1\n",
      "INFO:tensorflow:global_step/sec: 666.162\n",
      "INFO:tensorflow:loss = 144242.62, step = 101 (0.166 sec)\n",
      "INFO:tensorflow:global_step/sec: 1726.24\n",
      "INFO:tensorflow:loss = 142023.2, step = 201 (0.042 sec)\n",
      "INFO:tensorflow:global_step/sec: 2173.32\n",
      "INFO:tensorflow:loss = 140171.67, step = 301 (0.046 sec)\n",
      "INFO:tensorflow:global_step/sec: 2808.52\n",
      "INFO:tensorflow:loss = 138553.88, step = 401 (0.036 sec)\n",
      "INFO:tensorflow:global_step/sec: 2327.1\n",
      "INFO:tensorflow:loss = 137101.47, step = 501 (0.043 sec)\n",
      "INFO:tensorflow:global_step/sec: 2326.01\n",
      "INFO:tensorflow:loss = 135774.66, step = 601 (0.043 sec)\n",
      "INFO:tensorflow:global_step/sec: 2387.07\n",
      "INFO:tensorflow:loss = 134547.12, step = 701 (0.042 sec)\n",
      "INFO:tensorflow:global_step/sec: 2283.83\n",
      "INFO:tensorflow:loss = 133400.81, step = 801 (0.044 sec)\n",
      "INFO:tensorflow:global_step/sec: 1797.58\n",
      "INFO:tensorflow:loss = 132322.62, step = 901 (0.056 sec)\n",
      "INFO:tensorflow:global_step/sec: 2362.22\n",
      "INFO:tensorflow:loss = 131302.42, step = 1001 (0.042 sec)\n",
      "INFO:tensorflow:global_step/sec: 2407.83\n",
      "INFO:tensorflow:loss = 130332.56, step = 1101 (0.042 sec)\n",
      "INFO:tensorflow:global_step/sec: 2202.5\n",
      "INFO:tensorflow:loss = 129406.88, step = 1201 (0.050 sec)\n",
      "INFO:tensorflow:global_step/sec: 3047.48\n",
      "INFO:tensorflow:loss = 128520.266, step = 1301 (0.029 sec)\n",
      "INFO:tensorflow:global_step/sec: 1803.5\n",
      "INFO:tensorflow:loss = 127668.76, step = 1401 (0.055 sec)\n",
      "INFO:tensorflow:global_step/sec: 3331.17\n",
      "INFO:tensorflow:loss = 126848.92, step = 1501 (0.030 sec)\n",
      "INFO:tensorflow:global_step/sec: 1803.96\n",
      "INFO:tensorflow:loss = 126057.62, step = 1601 (0.055 sec)\n",
      "INFO:tensorflow:global_step/sec: 3244.38\n",
      "INFO:tensorflow:loss = 125292.484, step = 1701 (0.031 sec)\n",
      "INFO:tensorflow:global_step/sec: 2852.01\n",
      "INFO:tensorflow:loss = 124551.555, step = 1801 (0.051 sec)\n",
      "INFO:tensorflow:global_step/sec: 2356.13\n",
      "INFO:tensorflow:loss = 123832.59, step = 1901 (0.027 sec)\n",
      "INFO:tensorflow:Saving checkpoints for 2000 into outdir\\model.ckpt.\n",
      "INFO:tensorflow:Loss for final step: 123141.125.\n"
     ]
    },
    {
     "data": {
      "text/plain": [
       "<tensorflow.python.estimator.canned.linear.LinearRegressor at 0x1acb16b8518>"
      ]
     },
     "execution_count": 14,
     "metadata": {},
     "output_type": "execute_result"
    }
   ],
   "source": [
    "model=tf.estimator.LinearRegressor(feat_cols,\"outdir\")\n",
    "model.train(train_input_fn,steps=2000)"
   ]
  },
  {
   "cell_type": "code",
   "execution_count": 15,
   "metadata": {},
   "outputs": [],
   "source": [
    "def predict_input_fn():\n",
    "     features={\"sq_footage\":[1500,1500,2500,2500],\n",
    "              \"type\":[\"house\",\"apt\",\"house\",\"apt\"]}\n",
    "     return features   "
   ]
  },
  {
   "cell_type": "code",
   "execution_count": 16,
   "metadata": {},
   "outputs": [],
   "source": [
    "predictions=model.predict(predict_input_fn)"
   ]
  },
  {
   "cell_type": "code",
   "execution_count": 17,
   "metadata": {},
   "outputs": [
    {
     "data": {
      "text/plain": [
       "<generator object Estimator.predict at 0x000001ACB160CA98>"
      ]
     },
     "execution_count": 17,
     "metadata": {},
     "output_type": "execute_result"
    }
   ],
   "source": [
    "predictions"
   ]
  },
  {
   "cell_type": "code",
   "execution_count": 18,
   "metadata": {},
   "outputs": [
    {
     "name": "stdout",
     "output_type": "stream",
     "text": [
      "WARNING:tensorflow:Input graph does not use tf.data.Dataset or contain a QueueRunner. That means predict yields forever. This is probably a mistake.\n",
      "INFO:tensorflow:Calling model_fn.\n",
      "INFO:tensorflow:Done calling model_fn.\n",
      "INFO:tensorflow:Graph was finalized.\n",
      "INFO:tensorflow:Restoring parameters from outdir\\model.ckpt-2000\n",
      "INFO:tensorflow:Running local_init_op.\n",
      "INFO:tensorflow:Done running local_init_op.\n",
      "{'predictions': array([844.07806], dtype=float32)}\n"
     ]
    }
   ],
   "source": [
    "print(next(predictions))"
   ]
  },
  {
   "cell_type": "code",
   "execution_count": 19,
   "metadata": {},
   "outputs": [
    {
     "name": "stdout",
     "output_type": "stream",
     "text": [
      "{'predictions': array([871.82715], dtype=float32)}\n"
     ]
    }
   ],
   "source": [
    "print(next(predictions))"
   ]
  },
  {
   "cell_type": "code",
   "execution_count": 20,
   "metadata": {},
   "outputs": [
    {
     "name": "stdout",
     "output_type": "stream",
     "text": [
      "{'predictions': array([1414.5388], dtype=float32)}\n"
     ]
    }
   ],
   "source": [
    "print(next(predictions))"
   ]
  },
  {
   "cell_type": "code",
   "execution_count": 21,
   "metadata": {},
   "outputs": [
    {
     "name": "stdout",
     "output_type": "stream",
     "text": [
      "{'predictions': array([1442.2878], dtype=float32)}\n"
     ]
    }
   ],
   "source": [
    "print(next(predictions))"
   ]
  },
  {
   "cell_type": "code",
   "execution_count": null,
   "metadata": {},
   "outputs": [],
   "source": []
  }
 ],
 "metadata": {
  "kernelspec": {
   "display_name": "Python 3",
   "language": "python",
   "name": "python3"
  },
  "language_info": {
   "codemirror_mode": {
    "name": "ipython",
    "version": 3
   },
   "file_extension": ".py",
   "mimetype": "text/x-python",
   "name": "python",
   "nbconvert_exporter": "python",
   "pygments_lexer": "ipython3",
   "version": "3.6.6"
  }
 },
 "nbformat": 4,
 "nbformat_minor": 2
}
